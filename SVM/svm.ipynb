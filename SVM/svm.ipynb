{
 "cells": [
  {
   "cell_type": "code",
   "execution_count": null,
   "metadata": {},
   "outputs": [
    {
     "name": "stdout",
     "output_type": "stream",
     "text": [
      "TRAIN: [152221  48481  47085 ...  33320 197930  15665] TEST: [ 66135 104912   1633 ... 102487 103605  38552]\n"
     ]
    }
   ],
   "source": [
    "import sklearn\n",
    "from sklearn import datasets\n",
    "from sklearn import svm\n",
    "import random\n",
    "from sklearn.feature_extraction.text import TfidfVectorizer\n",
    "from sklearn import metrics\n",
    "import numpy\n",
    "import pandas as pd\n",
    "from sklearn.model_selection import StratifiedShuffleSplit\n",
    "\n",
    "def inputdata(filename):\n",
    "    data = pd.read_csv(filename,encoding='latin-1')\n",
    "    x = data['x_input']\n",
    "    y = data['y_label']\n",
    "    return x,y\n",
    "\n",
    "def splitset(x,y,test_size=0.2):\n",
    "    sss = StratifiedShuffleSplit(n_splits=1, test_size=test_size, random_state=0)\n",
    "    for train_index, test_index in sss.split(X, y):\n",
    "        print(\"TRAIN:\", train_index, \"TEST:\", test_index)\n",
    "        X_train, X_test = X[train_index], X[test_index]\n",
    "        y_train, y_test = y[train_index],y[test_index]\n",
    "\n",
    "    return X_train,y_train,X_test,y_test\n",
    "\n",
    "\n",
    "def tfvectorize(X_train,X_test):\n",
    "    v = TfidfVectorizer(decode_error = 'ignore',stop_words = 'english')\n",
    "    train_tfidf = v.fit_transform(X_train)\n",
    "    test_tfidf = v.transform(X_test)\n",
    "    \n",
    "    return train_tfidf,test_tfidf\n",
    "\n",
    "\n",
    "#得到准确率和召回率\n",
    "def evaluate(actual, pred):\n",
    "    m_acc = metrics.accuracy_score(actual,pred)\n",
    "    m_precision = metrics.precision_score(actual, pred,average='macro')\n",
    "    m_recall = metrics.recall_score(actual,pred,average='macro')\n",
    "    print( 'precision:{}'.format(m_precision))\n",
    "    print ('recall:{}'.format(m_recall))\n",
    "    print ('acc:{}'.format(m_acc))\n",
    "\n",
    "#创建svm分类器\n",
    "def train_clf(train_data, train_tags):\n",
    "    clf = svm.SVC(C=10000,cache_size=200,gamma='auto',kernel='rbf',probability=True,shrinking=True)\n",
    "    clf.fit(train_data, train_tags)\n",
    "\n",
    "    return clf\n",
    "\n",
    "if __name__ == '__main__':\n",
    "    X,y = inputdata(r'F:\\post graduate\\raw_data\\svm_total.csv')\n",
    "\n",
    "    X_train,y_train,X_test,y_test = splitset(X, y, 0.2)\n",
    "\n",
    "    train_tfidf,test_tfidf = tfvectorize(X_train,X_test)\n",
    "\n",
    "    clf = train_clf(train_tfidf,y_train)\n",
    "\n",
    "    y_pred =  clf.predict(test_tfidf)\n",
    "\n",
    "    evaluate(y_test,y_pred)"
   ]
  },
  {
   "cell_type": "code",
   "execution_count": null,
   "metadata": {},
   "outputs": [],
   "source": []
  }
 ],
 "metadata": {
  "kernelspec": {
   "display_name": "Python 3",
   "language": "python",
   "name": "python3"
  },
  "language_info": {
   "codemirror_mode": {
    "name": "ipython",
    "version": 3
   },
   "file_extension": ".py",
   "mimetype": "text/x-python",
   "name": "python",
   "nbconvert_exporter": "python",
   "pygments_lexer": "ipython3",
   "version": "3.7.3"
  }
 },
 "nbformat": 4,
 "nbformat_minor": 2
}

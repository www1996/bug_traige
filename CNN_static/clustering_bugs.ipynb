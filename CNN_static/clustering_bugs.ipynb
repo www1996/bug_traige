{
 "cells": [
  {
   "cell_type": "code",
   "execution_count": 2,
   "metadata": {},
   "outputs": [],
   "source": [
    "import pandas as pd\n",
    "import numpy as np\n",
    "from sklearn.decomposition import KernelPCA\n",
    "import matplotlib.pyplot as plt\n",
    "from sklearn.cluster import DBSCAN\n",
    "from collections import Counter\n",
    "bug = pd.read_csv(r\"F:\\post graduate\\dataset\\buglist.csv\",encoding='latin-1')\n",
    "assignee = bug['Assignee']\n",
    "classification = bug['Classification']\n",
    "product = bug['Product']\n",
    "component = bug['Component']\n",
    "list_classification = list(set(bug['Classification']))\n",
    "list_product = list(set(bug['Product']))\n",
    "list_component = list(set(bug['Component']))\n",
    "\n",
    "classification_num = len(set(classification))\n",
    "product_num = len(set(product))\n",
    "component_num = len(set(component))\n",
    "total_num = classification_num+product_num+component_num\n"
   ]
  },
  {
   "cell_type": "code",
   "execution_count": 3,
   "metadata": {},
   "outputs": [],
   "source": [
    "# bug.shape[0] → 20000\n",
    "matrix = np.zeros((20000,total_num),dtype = np.int8)\n",
    "for i in range(20000):\n",
    "    cla = bug.iloc[i][3]\n",
    "    pro = bug.iloc[i][4]\n",
    "    com = bug.iloc[i][5]\n",
    "    loc1 = list_classification.index(cla)\n",
    "    loc2 = list_product.index(pro) + classification_num\n",
    "    loc3 = list_component.index(com) + classification_num + product_num\n",
    "    matrix[i][loc1] = 1\n",
    "    matrix[i][loc2] = 1\n",
    "    matrix[i][loc3] = 1"
   ]
  },
  {
   "cell_type": "code",
   "execution_count": 4,
   "metadata": {},
   "outputs": [
    {
     "data": {
      "text/plain": [
       "<matplotlib.collections.PathCollection at 0x1c940258d30>"
      ]
     },
     "execution_count": 4,
     "metadata": {},
     "output_type": "execute_result"
    },
    {
     "data": {
      "image/png": "[encoded data removed]",
      "text/plain": [
       "<Figure size 600x600 with 1 Axes>"
      ]
     },
     "metadata": {
      "needs_background": "light"
     },
     "output_type": "display_data"
    }
   ],
   "source": [
    "#kpca\n",
    "color = np.random.rand(len(matrix))\n",
    "kpca = KernelPCA(n_components=2, kernel='rbf', gamma=15)\n",
    "kpca_matrix = kpca.fit_transform(matrix)\n",
    "plt.figure(figsize=(6,6),dpi=100)\n",
    "plt.scatter(kpca_matrix[:, 0], kpca_matrix[:, 1], c=color, cmap=plt.cm.Spectral)"
   ]
  },
  {
   "cell_type": "code",
   "execution_count": null,
   "metadata": {},
   "outputs": [],
   "source": [
    "# #t-SNE 2D\n",
    "# tsne = TSNE(n_components=2,init='pca', random_state=0,method='exact')\n",
    "# tsne_matrix_2d = tsne.fit_transform(matrix)\n",
    "# print(len(tsne_matrix_2d))\n",
    "# plt.figure(figsize=(8,8),dpi=80)\n",
    "# plt.subplot(111)\n",
    "# plt.scatter(tsne_matrix_2d[:, 0], tsne_matrix_2d[:, 1], c=color, cmap=plt.cm.Spectral)\n",
    "# plt.show()"
   ]
  },
  {
   "cell_type": "code",
   "execution_count": 5,
   "metadata": {
    "scrolled": true
   },
   "outputs": [],
   "source": [
    "dbscan_model = DBSCAN().fit(kpca_matrix)\n",
    "cnt = Counter(dbscan_model.labels_)"
   ]
  },
  {
   "cell_type": "code",
   "execution_count": 53,
   "metadata": {},
   "outputs": [
    {
     "data": {
      "text/plain": [
       "Counter({0: 13528, 1: 2642, 2: 3830})"
      ]
     },
     "execution_count": 53,
     "metadata": {},
     "output_type": "execute_result"
    }
   ],
   "source": [
    "cnt"
   ]
  },
  {
   "cell_type": "code",
   "execution_count": 54,
   "metadata": {},
   "outputs": [
    {
     "data": {
      "text/plain": [
       "<matplotlib.collections.PathCollection at 0x23e228404e0>"
      ]
     },
     "execution_count": 54,
     "metadata": {},
     "output_type": "execute_result"
    },
    {
     "data": {
      "image/png": "[encoded data removed]",
      "text/plain": [
       "<Figure size 432x288 with 1 Axes>"
      ]
     },
     "metadata": {
      "needs_background": "light"
     },
     "output_type": "display_data"
    }
   ],
   "source": [
    "plt.scatter(kpca_matrix[:, 0], kpca_matrix[:, 1], c=dbscan_model.labels_)"
   ]
  },
  {
   "cell_type": "code",
   "execution_count": 25,
   "metadata": {},
   "outputs": [
    {
     "data": {
      "text/plain": [
       "3"
      ]
     },
     "execution_count": 25,
     "metadata": {},
     "output_type": "execute_result"
    }
   ],
   "source": [
    "dbscan_model.labels_.max()"
   ]
  },
  {
   "cell_type": "code",
   "execution_count": 26,
   "metadata": {},
   "outputs": [],
   "source": [
    "cnt = Counter(dbscan_model.labels_)"
   ]
  },
  {
   "cell_type": "code",
   "execution_count": 64,
   "metadata": {},
   "outputs": [
    {
     "data": {
      "text/plain": [
       "Counter({0: 13528, 1: 2642, 2: 3830})"
      ]
     },
     "execution_count": 64,
     "metadata": {},
     "output_type": "execute_result"
    }
   ],
   "source": [
    "cnt"
   ]
  },
  {
   "cell_type": "code",
   "execution_count": 8,
   "metadata": {},
   "outputs": [],
   "source": [
    "import csv\n",
    "summary = bug['Summary']\n",
    "for i in range(len(dbscan_model.labels_)):\n",
    "    if dbscan_model.labels_[i] ==0:\n",
    "        with open(r'F:\\post graduate\\dataset\\data0.csv','a',newline='',encoding='latin-1') as csvfile:\n",
    "            writer = csv.writer(csvfile)\n",
    "            writer.writerow([classification[i]+' '+product[i]+ ' '+component[i]+' '+summary[i],assignee[i]])"
   ]
  },
  {
   "cell_type": "code",
   "execution_count": null,
   "metadata": {},
   "outputs": [],
   "source": []
  }
 ],
 "metadata": {
  "kernelspec": {
   "display_name": "Python 3",
   "language": "python",
   "name": "python3"
  },
  "language_info": {
   "codemirror_mode": {
    "name": "ipython",
    "version": 3
   },
   "file_extension": ".py",
   "mimetype": "text/x-python",
   "name": "python",
   "nbconvert_exporter": "python",
   "pygments_lexer": "ipython3",
   "version": "3.7.3"
  }
 },
 "nbformat": 4,
 "nbformat_minor": 2
}

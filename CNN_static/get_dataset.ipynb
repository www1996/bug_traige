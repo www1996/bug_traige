{
 "cells": [
  {
   "cell_type": "code",
   "execution_count": 2,
   "metadata": {},
   "outputs": [],
   "source": [
    "import pandas as pd\n",
    "import csv\n",
    "from collections import Counter\n"
   ]
  },
  {
   "cell_type": "code",
   "execution_count": 2,
   "metadata": {},
   "outputs": [],
   "source": [
    "# bug = pd.read_csv(r'F:\\post graduate\\dataset\\buglist.csv',encoding = 'latin-1')\n",
    "# label = set()\n",
    "# assignee = bug['Assignee']\n",
    "# cnt = Counter(assignee)\n",
    "# # for k,v in cnt.items():\n",
    "# #     if v>2:\n",
    "# #         label.add(k)\n",
    "# # print(label,len(label))\n",
    "# classification = bug['Classification']\n",
    "# product = bug['Product']\n",
    "# component = bug['Component']\n",
    "# summary = bug['Summary']\n",
    "# ID = bug['Bug ID']\n",
    "# for i in range(len(assignee)):\n",
    "#     if assignee[i] in label:\n",
    "#         with open(r'F:\\post graduate\\dataset\\data.csv','a',newline='',encoding='latin-1') as csvfile:\n",
    "#             writer = csv.writer(csvfile)\n",
    "#             writer.writerow([classification[i]+' '+product[i]+ ' '+component[i]+' '+summary[i],assignee[i]])\n"
   ]
  },
  {
   "cell_type": "code",
   "execution_count": 60,
   "metadata": {},
   "outputs": [],
   "source": [
    "bug = pd.read_csv(r'F:\\post graduate\\raw_data\\data_2\\buglist2.csv',encoding = 'latin-1')\n",
    "assignee = bug['Assignee']\n",
    "classification = bug['Classification']\n",
    "product = bug['Product']\n",
    "component = bug['Component']\n",
    "summary = bug['Summary']\n",
    "ID = bug['Bug ID']"
   ]
  },
  {
   "cell_type": "code",
   "execution_count": 61,
   "metadata": {},
   "outputs": [],
   "source": [
    "path = 'F:\\\\post graduate\\\\raw_data\\\\data_2\\\\'\n",
    "for i in range(len(ID)):\n",
    "    data = list()\n",
    "    count = 0\n",
    "    for line in open(path+str(ID[i])+\".txt\",\"r\",encoding='latin-1'): #设置文件对象并读取每一行文件 ,\n",
    "        if line[:5] == 'NOTES' or line[:7] == \"Comment\" or line[:4]=='Log:' or line[:3] =='org':\n",
    "            break\n",
    "        if count >1:\n",
    "            data.append(line.strip())\n",
    "        count+=1\n",
    "    description = \"\".join(data)\n",
    "    with open(r'F:\\post graduate\\dataset\\datawithdes.csv','a',newline='',encoding='latin-1') as csvfile:\n",
    "        writer = csv.writer(csvfile)\n",
    "        writer.writerow([classification[i]+' '+product[i]+ ' '+component[i]+' '+summary[i]+ ' '+description,assignee[i]])"
   ]
  },
  {
   "cell_type": "code",
   "execution_count": 56,
   "metadata": {},
   "outputs": [
    {
     "data": {
      "text/plain": [
       "50100"
      ]
     },
     "execution_count": 56,
     "metadata": {},
     "output_type": "execute_result"
    }
   ],
   "source": [
    "len(ID)"
   ]
  },
  {
   "cell_type": "code",
   "execution_count": null,
   "metadata": {},
   "outputs": [],
   "source": []
  }
 ],
 "metadata": {
  "kernelspec": {
   "display_name": "Python 3",
   "language": "python",
   "name": "python3"
  },
  "language_info": {
   "codemirror_mode": {
    "name": "ipython",
    "version": 3
   },
   "file_extension": ".py",
   "mimetype": "text/x-python",
   "name": "python",
   "nbconvert_exporter": "python",
   "pygments_lexer": "ipython3",
   "version": "3.7.3"
  }
 },
 "nbformat": 4,
 "nbformat_minor": 2
}

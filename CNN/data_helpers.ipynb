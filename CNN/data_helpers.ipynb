{
 "cells": [
  {
   "cell_type": "code",
   "execution_count": 1,
   "metadata": {},
   "outputs": [],
   "source": [
    "import pandas as pd\n",
    "import re\n",
    "import numpy as np\n",
    "import nltk\n",
    "from nltk.corpus import stopwords\n",
    "\n",
    "def load_data_and_labels(data_file):\n",
    "    df = pd.read_csv(data_file, encoding='latin-1')\n",
    "    text = df['x_input']\n",
    "    label = df['y_label']\n",
    "    x_text = [clean_str(sent) for sent in text]\n",
    "    set_label = set(label)\n",
    "    length = len(set_label)\n",
    "    dic_label = dict(zip(range(len(set_label)), set_label))\n",
    "    y = list()\n",
    "    for name in label:\n",
    "        l = [0] * length\n",
    "        for k, v in dic_label.items():\n",
    "            if name is v:\n",
    "                l[k] = 1\n",
    "                y.append(l)\n",
    "    return [x_text, np.asarray(y)]\n",
    "\n",
    "\n",
    "def batch_iter(data, batch_size, num_epochs, shuffle=True):\n",
    "    data = np.array(data)\n",
    "    data_size = len(data)\n",
    "    num_batches_per_epoch = int((len(data) - 1) / batch_size) + 1\n",
    "    for epoch in range(num_epochs):\n",
    "        # shuffle data\n",
    "        if shuffle:\n",
    "            shuffle_indices = np.random.permutation(np.arange(data_size))\n",
    "            shuffled_data = data[shuffle_indices]\n",
    "        else:\n",
    "            shuffled_data = data\n",
    "        for batch_num in range(num_batches_per_epoch):\n",
    "            start_index = batch_num * batch_size\n",
    "            end_index = min((batch_num + 1) * batch_size, data_size)\n",
    "            yield shuffled_data[start_index:end_index]\n",
    "\n",
    "\n",
    "# 待改进\n",
    "def clean_str(string):\n",
    "    stop_word = stopwords.words(\"english\")                #停词表\n",
    "    porter=nltk.PorterStemmer()                           #词干提取器\n",
    "    string = re.sub(r\"\\(.*?\\)\", \" \", string)\n",
    "    string = re.sub(r'[^a-zA-Z \\']', \" \", string)\n",
    "    string = [w for w in string.split() if w not in stop_word]  #string = [porter.stem(w) for w in string.split() if w not in stop_word]\n",
    "    string = \" \".join(string)\n",
    "    return string.lower()\n"
   ]
  }
 ],
 "metadata": {
  "kernelspec": {
   "display_name": "Python 3",
   "language": "python",
   "name": "python3"
  },
  "language_info": {
   "codemirror_mode": {
    "name": "ipython",
    "version": 3
   },
   "file_extension": ".py",
   "mimetype": "text/x-python",
   "name": "python",
   "nbconvert_exporter": "python",
   "pygments_lexer": "ipython3",
   "version": "3.7.3"
  }
 },
 "nbformat": 4,
 "nbformat_minor": 2
}
